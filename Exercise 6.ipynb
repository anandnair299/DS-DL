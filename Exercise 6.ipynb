{
 "cells": [
  {
   "cell_type": "code",
   "execution_count": 1,
   "metadata": {},
   "outputs": [
    {
     "name": "stdin",
     "output_type": "stream",
     "text": [
      "Enter new academic mark 0\n",
      "Enter new other activities mark 0\n"
     ]
    },
    {
     "name": "stdout",
     "output_type": "stream",
     "text": [
      "['Good']\n"
     ]
    }
   ],
   "source": [
    "import pandas as pd\n",
    "from sklearn.neighbors import KNeighborsClassifier\n",
    "p=float(input(\"Enter new academic mark\"))\n",
    "q=float(input(\"Enter new other activities mark\"))\n",
    "data=pd.read_csv(\"/home/exam1/Desktop/DS/data.csv\")\n",
    "x_values=data.iloc[:,[0,1]]\n",
    "y=data.iloc[:,[2]]\n",
    "y_values=y.values.reshape(-1,)\n",
    "clf=KNeighborsClassifier(n_neighbors=3,metric=\"euclidean\")\n",
    "clf.fit(x_values.values,y_values)\n",
    "new_data=[[p,q]]\n",
    "predicted_class=clf.predict(new_data)\n",
    "print(predicted_class)"
   ]
  },
  {
   "cell_type": "code",
   "execution_count": null,
   "metadata": {},
   "outputs": [],
   "source": []
  }
 ],
 "metadata": {
  "kernelspec": {
   "display_name": "Python 3 (ipykernel)",
   "language": "python",
   "name": "python3"
  },
  "language_info": {
   "codemirror_mode": {
    "name": "ipython",
    "version": 3
   },
   "file_extension": ".py",
   "mimetype": "text/x-python",
   "name": "python",
   "nbconvert_exporter": "python",
   "pygments_lexer": "ipython3",
   "version": "3.9.12"
  },
  "vscode": {
   "interpreter": {
    "hash": "389fec3dca58f2285ddddc050009163f2133119bbc009186c3292ceaf19e0eac"
   }
  }
 },
 "nbformat": 4,
 "nbformat_minor": 4
}
