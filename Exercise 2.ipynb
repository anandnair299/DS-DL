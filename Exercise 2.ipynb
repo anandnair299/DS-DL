{
 "cells": [
  {
   "cell_type": "code",
   "execution_count": 5,
   "metadata": {},
   "outputs": [
    {
     "name": "stdout",
     "output_type": "stream",
     "text": [
      "First\n",
      " [[1 2 3]\n",
      " [4 5 6]\n",
      " [7 8 9]]\n",
      "Second\n",
      " [[1 2 3]\n",
      " [4 5 6]\n",
      " [7 8 9]]\n",
      "Dot product\n",
      " [[ 30  36  42]\n",
      " [ 66  81  96]\n",
      " [102 126 150]]\n"
     ]
    }
   ],
   "source": [
    "import numpy as np\n",
    "    \n",
    "a = np.array([[1,2,3],[4,5,6],[7,8,9]])    \n",
    "b = np.array([[1,2,3],[4,5,6],[7,8,9]])\n",
    "\n",
    "print(\"First\\n\",a)\n",
    "print(\"Second\\n\",b)\n",
    "        \n",
    "dot_product = np.dot(a,b)    \n",
    "print(\"Dot product\\n\",dot_product)"
   ]
  },
  {
   "cell_type": "code",
   "execution_count": 6,
   "metadata": {},
   "outputs": [
    {
     "name": "stdout",
     "output_type": "stream",
     "text": [
      "First\n",
      " [[1 2 3]\n",
      " [4 5 6]\n",
      " [7 8 9]]\n",
      "Second\n",
      " [[1 2 3]\n",
      " [4 5 6]\n",
      " [7 8 9]]\n",
      "---------------------------\n",
      "Transpose of A : \n",
      "[[1 4 7]\n",
      " [2 5 8]\n",
      " [3 6 9]]\n",
      "Transpose of B : \n",
      "[[1 4 7]\n",
      " [2 5 8]\n",
      " [3 6 9]]\n"
     ]
    }
   ],
   "source": [
    "transpose_a = np.transpose(a)\n",
    "transpose_b = np.transpose(b)\n",
    "\n",
    "print(\"First\\n\",a)\n",
    "print(\"Second\\n\",b)\n",
    "print(f\"---------------------------\")\n",
    "print(f\"Transpose of A : \\n{transpose_a}\")\n",
    "print(f\"Transpose of B : \\n{transpose_b}\")"
   ]
  },
  {
   "cell_type": "code",
   "execution_count": 7,
   "metadata": {},
   "outputs": [
    {
     "name": "stdout",
     "output_type": "stream",
     "text": [
      "Trace of A : 15\n",
      "Trace of B: 15\n"
     ]
    }
   ],
   "source": [
    "print(f\"Trace of A : {np.trace(a)}\")\n",
    "print(f\"Trace of B: {np.trace(b)}\")"
   ]
  },
  {
   "cell_type": "code",
   "execution_count": 8,
   "metadata": {},
   "outputs": [
    {
     "name": "stdout",
     "output_type": "stream",
     "text": [
      "Rank of A : 2\n",
      "Rank of B: 2\n"
     ]
    }
   ],
   "source": [
    "print(f\"Rank of A : {np.linalg.matrix_rank(a)}\")\n",
    "print(f\"Rank of B: {np.linalg.matrix_rank(b)}\")"
   ]
  },
  {
   "cell_type": "code",
   "execution_count": 9,
   "metadata": {},
   "outputs": [
    {
     "name": "stdout",
     "output_type": "stream",
     "text": [
      "Determinant of A: 12\n",
      "Determinant of B: 28\n"
     ]
    }
   ],
   "source": [
    "x = np.array([[7,7,3],[4,5,6],[7,8,9]])\n",
    "y = np.array([[5,8,1],[7,9,3],[5,3,2]])\n",
    "\n",
    "det_a = int(np.linalg.det(x))\n",
    "det_b = int(np.linalg.det(y))\n",
    "print(f\"Determinant of A: {det_a}\")\n",
    "print(f\"Determinant of B: {det_b}\")"
   ]
  },
  {
   "cell_type": "code",
   "execution_count": 10,
   "metadata": {},
   "outputs": [
    {
     "name": "stdout",
     "output_type": "stream",
     "text": [
      "First\n",
      " [[7 7 3]\n",
      " [4 5 6]\n",
      " [7 8 9]]\n",
      "Second\n",
      " [[5 8 1]\n",
      " [7 9 3]\n",
      " [5 3 2]]\n",
      "Inverse of X:\n",
      "[[-0.25       -3.25        2.25      ]\n",
      " [ 0.5         3.5        -2.5       ]\n",
      " [-0.25       -0.58333333  0.58333333]]\n",
      "Inverse of Y:\n",
      "[[ 0.31034483 -0.44827586  0.51724138]\n",
      " [ 0.03448276  0.17241379 -0.27586207]\n",
      " [-0.82758621  0.86206897 -0.37931034]]\n"
     ]
    }
   ],
   "source": [
    "print(\"First\\n\",x)\n",
    "print(\"Second\\n\",y)\n",
    "\n",
    "inv_a = np.linalg.inv(x)\n",
    "inv_b = np.linalg.inv(y)\n",
    "\n",
    "print(f\"Inverse of X:\\n{inv_a}\")\n",
    "print(f\"Inverse of Y:\\n{inv_b}\")"
   ]
  },
  {
   "cell_type": "code",
   "execution_count": 11,
   "metadata": {},
   "outputs": [
    {
     "name": "stdout",
     "output_type": "stream",
     "text": [
      "Eigen value of M: [-0.23606798  4.23606798]\n",
      "Eigen vector of  M [[-0.85065081 -0.52573111]\n",
      " [ 0.52573111 -0.85065081]]\n"
     ]
    }
   ],
   "source": [
    "m = np.array([[1, 2],[2, 3]])\n",
    "\n",
    "value,vector = np.linalg.eig(m)\n",
    "print(f\"Eigen value of M: {value}\")\n",
    "print(f\"Eigen vector of  M {vector}\")"
   ]
  }
 ],
 "metadata": {
  "kernelspec": {
   "display_name": "Python 3.9.12 ('base')",
   "language": "python",
   "name": "python3"
  },
  "language_info": {
   "codemirror_mode": {
    "name": "ipython",
    "version": 3
   },
   "file_extension": ".py",
   "mimetype": "text/x-python",
   "name": "python",
   "nbconvert_exporter": "python",
   "pygments_lexer": "ipython3",
   "version": "3.9.12"
  },
  "orig_nbformat": 4,
  "vscode": {
   "interpreter": {
    "hash": "389fec3dca58f2285ddddc050009163f2133119bbc009186c3292ceaf19e0eac"
   }
  }
 },
 "nbformat": 4,
 "nbformat_minor": 2
}
