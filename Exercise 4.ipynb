{
 "cells": [
  {
   "cell_type": "code",
   "execution_count": 2,
   "id": "1ed24afa-4500-46d9-b679-63762aadb16d",
   "metadata": {},
   "outputs": [],
   "source": [
    "import pandas as pd"
   ]
  },
  {
   "cell_type": "code",
   "execution_count": 3,
   "id": "0db82b53-ca1f-43cb-a568-a233be2d35ca",
   "metadata": {},
   "outputs": [],
   "source": [
    "my_list = [\"Toyota\", \"Mercedes\", \"Ford\", \"Jeep\", \"Honda\"]"
   ]
  },
  {
   "cell_type": "code",
   "execution_count": 4,
   "id": "b388ed57-6914-41fd-86bd-5f4c55f779a3",
   "metadata": {},
   "outputs": [],
   "source": [
    "series = pd.Series(my_list)"
   ]
  },
  {
   "cell_type": "code",
   "execution_count": 5,
   "id": "cf13b678-501a-4346-828f-1fa5698cc2ba",
   "metadata": {},
   "outputs": [
    {
     "name": "stdout",
     "output_type": "stream",
     "text": [
      "0      Toyota\n",
      "1    Mercedes\n",
      "2        Ford\n",
      "3        Jeep\n",
      "4       Honda\n",
      "dtype: object\n"
     ]
    }
   ],
   "source": [
    "print(series)"
   ]
  },
  {
   "cell_type": "code",
   "execution_count": 16,
   "id": "e1f75afc-5d5c-4a81-93a3-58fe5b8394b8",
   "metadata": {},
   "outputs": [],
   "source": [
    "from datetime import datetime, timedelta"
   ]
  },
  {
   "cell_type": "code",
   "execution_count": 17,
   "id": "cfcde962-a68a-411a-aa0e-336c64ab2020",
   "metadata": {},
   "outputs": [],
   "source": [
    "start_date = datetime(2021, 5, 1)\n",
    "end_date = datetime(2021, 5, 12)"
   ]
  },
  {
   "cell_type": "code",
   "execution_count": 18,
   "id": "b89671f3-4f60-47a2-8355-8ca440aad6c1",
   "metadata": {},
   "outputs": [],
   "source": [
    "current_date = start_date"
   ]
  },
  {
   "cell_type": "code",
   "execution_count": 19,
   "id": "dd2777c1-6508-4819-ade3-0eed4589d414",
   "metadata": {},
   "outputs": [
    {
     "name": "stdout",
     "output_type": "stream",
     "text": [
      "01-05-2021\n",
      "02-05-2021\n",
      "03-05-2021\n",
      "04-05-2021\n",
      "05-05-2021\n",
      "06-05-2021\n",
      "07-05-2021\n",
      "08-05-2021\n",
      "09-05-2021\n",
      "10-05-2021\n",
      "11-05-2021\n",
      "12-05-2021\n"
     ]
    }
   ],
   "source": [
    "while current_date <= end_date:\n",
    "    print(current_date.strftime(\"%D-%M-%Y\"))\n",
    "    current_date += timedelta(days = 1)"
   ]
  },
  {
   "cell_type": "code",
   "execution_count": 21,
   "id": "d3dff382-bd74-4b22-b5dd-26883990331a",
   "metadata": {},
   "outputs": [
    {
     "name": "stdout",
     "output_type": "stream",
     "text": [
      "{'Name': ['Alice', 'Bob', 'Charlie'], 'Age': [25, 30, 35], 'City': ['New York', 'Los Angeles', 'Chicago']}\n"
     ]
    }
   ],
   "source": [
    "data = {'Name':['Alice', 'Bob', 'Charlie'],\n",
    "       'Age' : [25,30,35],\n",
    "        'City' : ['New York', 'Los Angeles', 'Chicago']\n",
    "       }\n",
    "\n",
    "df = pd.DataFrame(data)\n",
    "print(data)"
   ]
  },
  {
   "cell_type": "code",
   "execution_count": 22,
   "id": "f8ef976e-a7ab-4c0d-bc21-b4e7b00a304e",
   "metadata": {},
   "outputs": [
    {
     "name": "stdout",
     "output_type": "stream",
     "text": [
      "      Name  Age         City\n",
      "0    Alice   25     New York\n",
      "1      Bob   30  Los Angeles\n",
      "2  Charlie   35      Chicago\n"
     ]
    }
   ],
   "source": [
    "data = [['Alice', 25, 'New York'],\n",
    "        ['Bob', 30, 'Los Angeles'],\n",
    "['Charlie', 35, 'Chicago']]\n",
    "        \n",
    "df = pd.DataFrame(data, columns = ['Name', 'Age', 'City'])\n",
    "print(df)"
   ]
  },
  {
   "cell_type": "code",
   "execution_count": 23,
   "id": "d6d91d37-78e0-4d14-8eb5-e6d25a73778a",
   "metadata": {},
   "outputs": [
    {
     "name": "stdout",
     "output_type": "stream",
     "text": [
      "         country  gold_medal\n",
      "0  United States          46\n",
      "1  Great Britain          27\n",
      "2          China          26\n",
      "3         Russia          19\n",
      "4        Germany          17\n"
     ]
    }
   ],
   "source": [
    "df = pd.read_csv('/home/exam1/Desktop/DS/medal.csv')\n",
    "\n",
    "print(df)"
   ]
  },
  {
   "cell_type": "code",
   "execution_count": 24,
   "id": "67766e21-d035-4259-891f-fa97e914f056",
   "metadata": {},
   "outputs": [
    {
     "name": "stdout",
     "output_type": "stream",
     "text": [
      "      Name  Age         City\n",
      "0    Alice   25     New York\n",
      "1      Bob   30  Los Angeles\n",
      "2  Charlie   35      Chicago\n"
     ]
    }
   ],
   "source": [
    "data = {'Name':['Alice', 'Bob', 'Charlie'],\n",
    "       'Age' : [25,30,35],\n",
    "        'City' : ['New York', 'Los Angeles', 'Chicago']\n",
    "       }\n",
    "df = pd.DataFrame(data)\n",
    "\n",
    "sorted_df = df.sort_values(by=['Age', 'City'], ascending=[True,False])\n",
    "print(sorted_df)"
   ]
  },
  {
   "cell_type": "code",
   "execution_count": 26,
   "id": "38a22c3e-3c4b-4dd3-a457-ae43aaa521dc",
   "metadata": {},
   "outputs": [
    {
     "name": "stdout",
     "output_type": "stream",
     "text": [
      "      Name  Age         City\n",
      "0    Alice   25     New York\n",
      "1      Bob   30  Los Angeles\n",
      "2  Charlie   35      Chicago\n"
     ]
    }
   ],
   "source": [
    "data = {'Name':['Alice', 'Bob', 'Charlie'],\n",
    "       'Age' : [25,30,35],\n",
    "        'City' : ['New York', 'Los Angeles', 'Chicago']\n",
    "       }\n",
    "custom_index = ['A','B','C']\n",
    "df = pd.DataFrame(data,index=custom_index)\n",
    "df_reset = df.reset_index(drop=True)\n",
    "print(df_reset)"
   ]
  },
  {
   "cell_type": "code",
   "execution_count": 27,
   "id": "6f12dfc3-ca89-4312-ab8e-60d8bf5dd145",
   "metadata": {},
   "outputs": [
    {
     "name": "stdout",
     "output_type": "stream",
     "text": [
      "    Name  Age         City\n",
      "0  Alice   25     New York\n",
      "1    Bob   30  Los Angeles\n"
     ]
    }
   ],
   "source": [
    "data = {'Name':['Alice', 'Bob', 'Charlie'],\n",
    "       'Age' : [25,30,35],\n",
    "        'City' : ['New York', 'Los Angeles', 'Chicago']\n",
    "       }\n",
    "df = pd.DataFrame(data)\n",
    "selected_rows = df.iloc[:2]\n",
    "print(selected_rows)"
   ]
  },
  {
   "cell_type": "code",
   "execution_count": 29,
   "id": "539c35bf-c916-4610-b0c4-c92123059e57",
   "metadata": {},
   "outputs": [
    {
     "name": "stdout",
     "output_type": "stream",
     "text": [
      "Occupation\n",
      "Doctor      80000.0\n",
      "Engineer    60000.0\n",
      "Teacher     55000.0\n",
      "Name: Salary, dtype: float64\n"
     ]
    }
   ],
   "source": [
    "data = {'Name':['Alice', 'Bob', 'Charlie'],\n",
    "       'Salary' : [60000,80000,55000],\n",
    "        'Occupation' : ['Engineer', 'Doctor', 'Teacher']\n",
    "       }\n",
    "df = pd.DataFrame(data)\n",
    "average_salary = df.groupby('Occupation')['Salary'].mean()\n",
    "\n",
    "print(average_salary)"
   ]
  },
  {
   "cell_type": "code",
   "execution_count": 33,
   "id": "d42765af-6288-43fb-87cf-b39d8914e7a9",
   "metadata": {},
   "outputs": [
    {
     "name": "stdout",
     "output_type": "stream",
     "text": [
      "     A    B     C\n",
      "0  1.0  5.0   9.0\n",
      "1  2.0  0.0  10.0\n",
      "2  0.0  7.0  11.0\n",
      "3  4.0  8.0   0.0\n"
     ]
    }
   ],
   "source": [
    "import numpy as np\n",
    "data = {\n",
    "    'A' : [1,2,np.nan,4],\n",
    "    'B' : [5,np.nan,7,8],\n",
    "    'C' : [9,10,11,np.nan]\n",
    "}\n",
    "\n",
    "df = pd.DataFrame(data)\n",
    "df_filled = df.fillna(0)\n",
    "\n",
    "print(df_filled)"
   ]
  },
  {
   "cell_type": "code",
   "execution_count": 35,
   "id": "f618e738-eb20-4028-9906-8e67755f16ab",
   "metadata": {},
   "outputs": [
    {
     "name": "stdout",
     "output_type": "stream",
     "text": [
      "       cname  profit\n",
      "0  Company A    True\n",
      "1  Company B   False\n",
      "2  Company C    True\n"
     ]
    }
   ],
   "source": [
    "data = {\n",
    "    'cname' : ['Company A', 'Company B', 'Company C'],\n",
    "    'profit' : [1000,-500,1200]\n",
    "}\n",
    "df = pd.DataFrame(data)\n",
    "\n",
    "def convert_to_boolean(value):\n",
    "    return value > 0\n",
    "\n",
    "df['profit'] = df['profit'].apply(convert_to_boolean)\n",
    "print(df)"
   ]
  },
  {
   "cell_type": "code",
   "execution_count": 38,
   "id": "d52e6f12-cf67-46a9-9c92-fefcc0bcd8b7",
   "metadata": {},
   "outputs": [
    {
     "name": "stdout",
     "output_type": "stream",
     "text": [
      "   eid    ename  stipend  position\n",
      "0  101    Alice      500  Engineer\n",
      "1  102      Bob      600    Doctor\n",
      "2  103  Charlie      550       NaN\n",
      "3  104    David      700    Doctor\n"
     ]
    }
   ],
   "source": [
    "data1 = {\n",
    "    'eid' : [101,102,103,104],\n",
    "    'ename' : ['Alice','Bob','Charlie','David'],\n",
    "    'stipend' : [500,600,550,700]\n",
    "}\n",
    "\n",
    "data2 = {\n",
    "    'eid' : [101,102,104,105],\n",
    "    'designation' : ['Engineer', 'Doctor', 'Doctor', 'Teacher']\n",
    "}\n",
    "\n",
    "df1 = pd.DataFrame(data1)\n",
    "df2 = pd.DataFrame(data2)\n",
    "\n",
    "merged_df = pd.merge(df1,df2, on='eid', how='left')\n",
    "merged_df.rename(columns={'designation':'position'},inplace=True)\n",
    "print(merged_df)"
   ]
  }
 ],
 "metadata": {
  "kernelspec": {
   "display_name": "Python 3 (ipykernel)",
   "language": "python",
   "name": "python3"
  },
  "language_info": {
   "codemirror_mode": {
    "name": "ipython",
    "version": 3
   },
   "file_extension": ".py",
   "mimetype": "text/x-python",
   "name": "python",
   "nbconvert_exporter": "python",
   "pygments_lexer": "ipython3",
   "version": "3.9.12"
  }
 },
 "nbformat": 4,
 "nbformat_minor": 5
}
